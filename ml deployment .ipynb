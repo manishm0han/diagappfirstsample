{
 "cells": [
  {
   "cell_type": "markdown",
   "id": "898965cb",
   "metadata": {},
   "source": [
    "# End to end machine learning with deployment "
   ]
  },
  {
   "cell_type": "raw",
   "id": "189632ae",
   "metadata": {},
   "source": [
    "** create a medical dignostic app for predicting diabetics in women\n",
    "\n",
    "** dataset the pima indian datsset from kaggle \n",
    "\n",
    "\n",
    "\n",
    "steps to follow \n",
    "1.data exploration \n",
    "2. data cleaning \n",
    "3. eda\n",
    "4. data preprocessiiing \n",
    "5. model fitting and evaluation \n",
    "6. model optimization \n",
    "7.model interpretation \n",
    "8.model deployemnet "
   ]
  },
  {
   "cell_type": "markdown",
   "id": "6be238cf",
   "metadata": {},
   "source": [
    "# data exploration "
   ]
  },
  {
   "cell_type": "code",
   "execution_count": 1,
   "id": "41a77d83",
   "metadata": {},
   "outputs": [],
   "source": [
    "# import the libraries \n",
    "import numpy as np\n",
    "import pandas as pd\n",
    "import matplotlib.pyplot as plt\n",
    "import seaborn as sns\n",
    "import warnings\n",
    "warnings.filterwarnings('ignore')\n",
    "\n",
    "\n",
    "\n",
    "from sklearn.preprocessing import StandardScaler\n",
    "from sklearn.model_selection import train_test_split, RandomizedSearchCV,GridSearchCV\n",
    "from imblearn.over_sampling import SMOTE"
   ]
  },
  {
   "cell_type": "code",
   "execution_count": 2,
   "id": "0e3b65b9",
   "metadata": {},
   "outputs": [],
   "source": [
    "from sklearn.linear_model import LogisticRegression\n",
    "from sklearn.neighbors import KNeighborsClassifier\n",
    "from sklearn.naive_bayes import GaussianNB\n",
    "from sklearn.tree import DecisionTreeClassifier\n",
    "from sklearn.ensemble import RandomForestClassifier,AdaBoostClassifier,GradientBoostingClassifier\n",
    "\n",
    "\n",
    "from sklearn.svm import SVC\n",
    "\n",
    "from xgboost import XGBClassifier\n",
    "\n",
    "\n",
    "from sklearn.metrics import accuracy_score, precision_score, recall_score,roc_auc_score,\\\n",
    "f1_score,confusion_matrix,ConfusionMatrixDisplay,classification_report\n",
    "\n",
    "\n"
   ]
  },
  {
   "cell_type": "code",
   "execution_count": 3,
   "id": "0b850099",
   "metadata": {},
   "outputs": [],
   "source": [
    "import shap \n",
    "\n",
    "\n",
    "import pickle \n",
    "\n",
    "import streamlit as st"
   ]
  },
  {
   "cell_type": "code",
   "execution_count": 4,
   "id": "c97963dc",
   "metadata": {},
   "outputs": [
    {
     "data": {
      "text/html": [
       "<div>\n",
       "<style scoped>\n",
       "    .dataframe tbody tr th:only-of-type {\n",
       "        vertical-align: middle;\n",
       "    }\n",
       "\n",
       "    .dataframe tbody tr th {\n",
       "        vertical-align: top;\n",
       "    }\n",
       "\n",
       "    .dataframe thead th {\n",
       "        text-align: right;\n",
       "    }\n",
       "</style>\n",
       "<table border=\"1\" class=\"dataframe\">\n",
       "  <thead>\n",
       "    <tr style=\"text-align: right;\">\n",
       "      <th></th>\n",
       "      <th>Pregnancies</th>\n",
       "      <th>Glucose</th>\n",
       "      <th>BloodPressure</th>\n",
       "      <th>SkinThickness</th>\n",
       "      <th>Insulin</th>\n",
       "      <th>BMI</th>\n",
       "      <th>DiabetesPedigreeFunction</th>\n",
       "      <th>Age</th>\n",
       "      <th>Outcome</th>\n",
       "    </tr>\n",
       "  </thead>\n",
       "  <tbody>\n",
       "    <tr>\n",
       "      <th>0</th>\n",
       "      <td>6</td>\n",
       "      <td>148</td>\n",
       "      <td>72</td>\n",
       "      <td>35</td>\n",
       "      <td>0</td>\n",
       "      <td>33.6</td>\n",
       "      <td>0.627</td>\n",
       "      <td>50</td>\n",
       "      <td>Yes</td>\n",
       "    </tr>\n",
       "    <tr>\n",
       "      <th>1</th>\n",
       "      <td>1</td>\n",
       "      <td>85</td>\n",
       "      <td>66</td>\n",
       "      <td>29</td>\n",
       "      <td>0</td>\n",
       "      <td>26.6</td>\n",
       "      <td>0.351</td>\n",
       "      <td>31</td>\n",
       "      <td>No</td>\n",
       "    </tr>\n",
       "    <tr>\n",
       "      <th>2</th>\n",
       "      <td>8</td>\n",
       "      <td>183</td>\n",
       "      <td>64</td>\n",
       "      <td>0</td>\n",
       "      <td>0</td>\n",
       "      <td>23.3</td>\n",
       "      <td>0.672</td>\n",
       "      <td>32</td>\n",
       "      <td>Yes</td>\n",
       "    </tr>\n",
       "    <tr>\n",
       "      <th>3</th>\n",
       "      <td>1</td>\n",
       "      <td>89</td>\n",
       "      <td>66</td>\n",
       "      <td>23</td>\n",
       "      <td>94</td>\n",
       "      <td>28.1</td>\n",
       "      <td>0.167</td>\n",
       "      <td>21</td>\n",
       "      <td>No</td>\n",
       "    </tr>\n",
       "    <tr>\n",
       "      <th>4</th>\n",
       "      <td>0</td>\n",
       "      <td>137</td>\n",
       "      <td>40</td>\n",
       "      <td>35</td>\n",
       "      <td>168</td>\n",
       "      <td>43.1</td>\n",
       "      <td>2.288</td>\n",
       "      <td>33</td>\n",
       "      <td>Tested_Positive</td>\n",
       "    </tr>\n",
       "  </tbody>\n",
       "</table>\n",
       "</div>"
      ],
      "text/plain": [
       "   Pregnancies  Glucose  BloodPressure  SkinThickness  Insulin   BMI  \\\n",
       "0            6      148             72             35        0  33.6   \n",
       "1            1       85             66             29        0  26.6   \n",
       "2            8      183             64              0        0  23.3   \n",
       "3            1       89             66             23       94  28.1   \n",
       "4            0      137             40             35      168  43.1   \n",
       "\n",
       "   DiabetesPedigreeFunction  Age          Outcome  \n",
       "0                     0.627   50              Yes  \n",
       "1                     0.351   31               No  \n",
       "2                     0.672   32              Yes  \n",
       "3                     0.167   21               No  \n",
       "4                     2.288   33  Tested_Positive  "
      ]
     },
     "execution_count": 4,
     "metadata": {},
     "output_type": "execute_result"
    }
   ],
   "source": [
    "data=pd.read_csv(r'diabetes.csv')\n",
    "data.head()"
   ]
  },
  {
   "cell_type": "code",
   "execution_count": 5,
   "id": "8fc572f1",
   "metadata": {
    "scrolled": true
   },
   "outputs": [
    {
     "name": "stdout",
     "output_type": "stream",
     "text": [
      "<class 'pandas.core.frame.DataFrame'>\n",
      "RangeIndex: 768 entries, 0 to 767\n",
      "Data columns (total 9 columns):\n",
      " #   Column                    Non-Null Count  Dtype  \n",
      "---  ------                    --------------  -----  \n",
      " 0   Pregnancies               768 non-null    int64  \n",
      " 1   Glucose                   768 non-null    int64  \n",
      " 2   BloodPressure             768 non-null    int64  \n",
      " 3   SkinThickness             768 non-null    int64  \n",
      " 4   Insulin                   768 non-null    int64  \n",
      " 5   BMI                       768 non-null    float64\n",
      " 6   DiabetesPedigreeFunction  768 non-null    float64\n",
      " 7   Age                       768 non-null    int64  \n",
      " 8   Outcome                   768 non-null    object \n",
      "dtypes: float64(2), int64(6), object(1)\n",
      "memory usage: 54.1+ KB\n"
     ]
    }
   ],
   "source": [
    "data.info()"
   ]
  },
  {
   "cell_type": "raw",
   "id": "d86080fa",
   "metadata": {},
   "source": [
    "columns of the dataset are **\n",
    "1.pregnancies -- the  number of times a women is pregnent \n",
    "2. Glucose -- the bllod serum glucose level of the patient in mg/dl\n",
    "3. BloodPressure -- diastolic blood pressure in mm og hg \n",
    "4. skinthickness -- triceps thickness --skin fold thickness in mm \n",
    "5. insulin -- the blood serum insulin level in muU/ml\n",
    "6. BMI - the measure of obesity given by weight in kg/(height m square)\n",
    "7. Diabetic pedigree function -- genetic indicator of the propensity for diabetics \n",
    "8. Age -- age of the person in years \n",
    "9. Outcome -- yes or no -- diabetic or not (yes=1, no=0)"
   ]
  },
  {
   "cell_type": "code",
   "execution_count": 6,
   "id": "5dbd095f",
   "metadata": {},
   "outputs": [
    {
     "data": {
      "text/html": [
       "<div>\n",
       "<style scoped>\n",
       "    .dataframe tbody tr th:only-of-type {\n",
       "        vertical-align: middle;\n",
       "    }\n",
       "\n",
       "    .dataframe tbody tr th {\n",
       "        vertical-align: top;\n",
       "    }\n",
       "\n",
       "    .dataframe thead th {\n",
       "        text-align: right;\n",
       "    }\n",
       "</style>\n",
       "<table border=\"1\" class=\"dataframe\">\n",
       "  <thead>\n",
       "    <tr style=\"text-align: right;\">\n",
       "      <th></th>\n",
       "      <th>Pregnancies</th>\n",
       "      <th>Glucose</th>\n",
       "      <th>BloodPressure</th>\n",
       "      <th>SkinThickness</th>\n",
       "      <th>Insulin</th>\n",
       "      <th>BMI</th>\n",
       "      <th>DiabetesPedigreeFunction</th>\n",
       "      <th>Age</th>\n",
       "    </tr>\n",
       "  </thead>\n",
       "  <tbody>\n",
       "    <tr>\n",
       "      <th>count</th>\n",
       "      <td>768.000000</td>\n",
       "      <td>768.000000</td>\n",
       "      <td>768.000000</td>\n",
       "      <td>768.000000</td>\n",
       "      <td>768.000000</td>\n",
       "      <td>768.000000</td>\n",
       "      <td>768.000000</td>\n",
       "      <td>768.000000</td>\n",
       "    </tr>\n",
       "    <tr>\n",
       "      <th>mean</th>\n",
       "      <td>3.845052</td>\n",
       "      <td>120.894531</td>\n",
       "      <td>69.105469</td>\n",
       "      <td>20.536458</td>\n",
       "      <td>79.799479</td>\n",
       "      <td>31.992578</td>\n",
       "      <td>0.471876</td>\n",
       "      <td>33.240885</td>\n",
       "    </tr>\n",
       "    <tr>\n",
       "      <th>std</th>\n",
       "      <td>3.369578</td>\n",
       "      <td>31.972618</td>\n",
       "      <td>19.355807</td>\n",
       "      <td>15.952218</td>\n",
       "      <td>115.244002</td>\n",
       "      <td>7.884160</td>\n",
       "      <td>0.331329</td>\n",
       "      <td>11.760232</td>\n",
       "    </tr>\n",
       "    <tr>\n",
       "      <th>min</th>\n",
       "      <td>0.000000</td>\n",
       "      <td>0.000000</td>\n",
       "      <td>0.000000</td>\n",
       "      <td>0.000000</td>\n",
       "      <td>0.000000</td>\n",
       "      <td>0.000000</td>\n",
       "      <td>0.078000</td>\n",
       "      <td>21.000000</td>\n",
       "    </tr>\n",
       "    <tr>\n",
       "      <th>25%</th>\n",
       "      <td>1.000000</td>\n",
       "      <td>99.000000</td>\n",
       "      <td>62.000000</td>\n",
       "      <td>0.000000</td>\n",
       "      <td>0.000000</td>\n",
       "      <td>27.300000</td>\n",
       "      <td>0.243750</td>\n",
       "      <td>24.000000</td>\n",
       "    </tr>\n",
       "    <tr>\n",
       "      <th>50%</th>\n",
       "      <td>3.000000</td>\n",
       "      <td>117.000000</td>\n",
       "      <td>72.000000</td>\n",
       "      <td>23.000000</td>\n",
       "      <td>30.500000</td>\n",
       "      <td>32.000000</td>\n",
       "      <td>0.372500</td>\n",
       "      <td>29.000000</td>\n",
       "    </tr>\n",
       "    <tr>\n",
       "      <th>75%</th>\n",
       "      <td>6.000000</td>\n",
       "      <td>140.250000</td>\n",
       "      <td>80.000000</td>\n",
       "      <td>32.000000</td>\n",
       "      <td>127.250000</td>\n",
       "      <td>36.600000</td>\n",
       "      <td>0.626250</td>\n",
       "      <td>41.000000</td>\n",
       "    </tr>\n",
       "    <tr>\n",
       "      <th>max</th>\n",
       "      <td>17.000000</td>\n",
       "      <td>199.000000</td>\n",
       "      <td>122.000000</td>\n",
       "      <td>99.000000</td>\n",
       "      <td>846.000000</td>\n",
       "      <td>67.100000</td>\n",
       "      <td>2.420000</td>\n",
       "      <td>81.000000</td>\n",
       "    </tr>\n",
       "  </tbody>\n",
       "</table>\n",
       "</div>"
      ],
      "text/plain": [
       "       Pregnancies     Glucose  BloodPressure  SkinThickness     Insulin  \\\n",
       "count   768.000000  768.000000     768.000000     768.000000  768.000000   \n",
       "mean      3.845052  120.894531      69.105469      20.536458   79.799479   \n",
       "std       3.369578   31.972618      19.355807      15.952218  115.244002   \n",
       "min       0.000000    0.000000       0.000000       0.000000    0.000000   \n",
       "25%       1.000000   99.000000      62.000000       0.000000    0.000000   \n",
       "50%       3.000000  117.000000      72.000000      23.000000   30.500000   \n",
       "75%       6.000000  140.250000      80.000000      32.000000  127.250000   \n",
       "max      17.000000  199.000000     122.000000      99.000000  846.000000   \n",
       "\n",
       "              BMI  DiabetesPedigreeFunction         Age  \n",
       "count  768.000000                768.000000  768.000000  \n",
       "mean    31.992578                  0.471876   33.240885  \n",
       "std      7.884160                  0.331329   11.760232  \n",
       "min      0.000000                  0.078000   21.000000  \n",
       "25%     27.300000                  0.243750   24.000000  \n",
       "50%     32.000000                  0.372500   29.000000  \n",
       "75%     36.600000                  0.626250   41.000000  \n",
       "max     67.100000                  2.420000   81.000000  "
      ]
     },
     "execution_count": 6,
     "metadata": {},
     "output_type": "execute_result"
    }
   ],
   "source": [
    "data.describe()"
   ]
  },
  {
   "cell_type": "markdown",
   "id": "3bd2e8ce",
   "metadata": {},
   "source": [
    "# DATA CLEANING "
   ]
  },
  {
   "cell_type": "markdown",
   "id": "85083171",
   "metadata": {},
   "source": [
    "-- cehck for null values \n",
    "-- check for duplicates\n",
    "--    corrupt characters\n",
    "-- nonsensical numerical values\n",
    "-- inconsisitent labels in categorical column "
   ]
  },
  {
   "cell_type": "code",
   "execution_count": 8,
   "id": "93fb69e3",
   "metadata": {},
   "outputs": [
    {
     "data": {
      "text/plain": [
       "Pregnancies                 0\n",
       "Glucose                     0\n",
       "BloodPressure               0\n",
       "SkinThickness               0\n",
       "Insulin                     0\n",
       "BMI                         0\n",
       "DiabetesPedigreeFunction    0\n",
       "Age                         0\n",
       "Outcome                     0\n",
       "dtype: int64"
      ]
     },
     "execution_count": 8,
     "metadata": {},
     "output_type": "execute_result"
    }
   ],
   "source": [
    "data.isnull().sum()"
   ]
  },
  {
   "cell_type": "code",
   "execution_count": 9,
   "id": "370c0bce",
   "metadata": {},
   "outputs": [
    {
     "data": {
      "text/plain": [
       "0"
      ]
     },
     "execution_count": 9,
     "metadata": {},
     "output_type": "execute_result"
    }
   ],
   "source": [
    "data.duplicated().sum()"
   ]
  },
  {
   "cell_type": "code",
   "execution_count": 10,
   "id": "64d3e7d4",
   "metadata": {
    "scrolled": false
   },
   "outputs": [
    {
     "ename": "TypeError",
     "evalue": "NDFrame._add_numeric_operations.<locals>.any() takes 1 positional argument but 2 were given",
     "output_type": "error",
     "traceback": [
      "\u001b[1;31m---------------------------------------------------------------------------\u001b[0m",
      "\u001b[1;31mTypeError\u001b[0m                                 Traceback (most recent call last)",
      "Cell \u001b[1;32mIn[10], line 1\u001b[0m\n\u001b[1;32m----> 1\u001b[0m data[\u001b[38;5;241m~\u001b[39m\u001b[43mdata\u001b[49m\u001b[38;5;241;43m.\u001b[39;49m\u001b[43mapplymap\u001b[49m\u001b[43m(\u001b[49m\u001b[43mnp\u001b[49m\u001b[38;5;241;43m.\u001b[39;49m\u001b[43misreal\u001b[49m\u001b[43m)\u001b[49m\u001b[38;5;241;43m.\u001b[39;49m\u001b[43many\u001b[49m\u001b[43m(\u001b[49m\u001b[38;5;241;43m1\u001b[39;49m\u001b[43m)\u001b[49m]\n",
      "\u001b[1;31mTypeError\u001b[0m: NDFrame._add_numeric_operations.<locals>.any() takes 1 positional argument but 2 were given"
     ]
    }
   ],
   "source": [
    "data[~data.applymap(np.isreal).any(1)]"
   ]
  },
  {
   "cell_type": "markdown",
   "id": "6ceb2896",
   "metadata": {},
   "source": [
    "the dataset has 768 rows and 9 columns with non duplicates and corrupt characters "
   ]
  },
  {
   "cell_type": "code",
   "execution_count": null,
   "id": "985d8b0e",
   "metadata": {},
   "outputs": [],
   "source": [
    "data['Outcome'].unique()"
   ]
  },
  {
   "cell_type": "code",
   "execution_count": null,
   "id": "1f4f2e51",
   "metadata": {},
   "outputs": [],
   "source": [
    "data.describe().T"
   ]
  },
  {
   "cell_type": "markdown",
   "id": "238f185a",
   "metadata": {},
   "source": [
    "There are zeros in minimum. these are missing values. "
   ]
  },
  {
   "cell_type": "code",
   "execution_count": null,
   "id": "2c823d1c",
   "metadata": {},
   "outputs": [],
   "source": [
    "data['Outcome'].value_counts()"
   ]
  },
  {
   "cell_type": "markdown",
   "id": "4ca41f69",
   "metadata": {},
   "source": [
    "** we need to impute the zero values in columns 1 to 6 and collapse the differemt labels in outcome into zero and one. \n",
    "** impute with median \n",
    "** collapse outcome to 0 and 1"
   ]
  },
  {
   "cell_type": "code",
   "execution_count": null,
   "id": "9a3d9e7c",
   "metadata": {},
   "outputs": [],
   "source": [
    "# get a copy of data\n",
    "df=data.copy()"
   ]
  },
  {
   "cell_type": "code",
   "execution_count": null,
   "id": "769f15e7",
   "metadata": {},
   "outputs": [],
   "source": [
    "df"
   ]
  },
  {
   "cell_type": "code",
   "execution_count": null,
   "id": "cddbc056",
   "metadata": {},
   "outputs": [],
   "source": [
    "zerofill=lambda x: x.replace(0, x.median())\n",
    "cols=df.columns[1:6]\n",
    "df[cols]=df[cols].apply(zerofill,0)"
   ]
  },
  {
   "cell_type": "code",
   "execution_count": null,
   "id": "b55129d6",
   "metadata": {},
   "outputs": [],
   "source": [
    "d={'Yes':1,'Tested_Positive':1,'No':0,'Tested_Negative':0}\n",
    "df['Outcome']=df['Outcome'].map(d)"
   ]
  },
  {
   "cell_type": "code",
   "execution_count": null,
   "id": "bdf7f848",
   "metadata": {},
   "outputs": [],
   "source": [
    "df"
   ]
  },
  {
   "cell_type": "code",
   "execution_count": null,
   "id": "e0496900",
   "metadata": {},
   "outputs": [],
   "source": [
    "df['Outcome'].value_counts()"
   ]
  },
  {
   "cell_type": "markdown",
   "id": "c1bf6561",
   "metadata": {},
   "source": [
    "# EDA"
   ]
  },
  {
   "cell_type": "code",
   "execution_count": null,
   "id": "1bd8e57c",
   "metadata": {},
   "outputs": [],
   "source": [
    "-- univatiate analysis \n",
    "-- bivariate analysis\n",
    "-- scatter plots \n",
    "-- correlation matrix\n",
    "-- heat maps"
   ]
  },
  {
   "cell_type": "code",
   "execution_count": null,
   "id": "a2c38062",
   "metadata": {},
   "outputs": [],
   "source": [
    "df.hist()\n",
    "plt.tight_layout()\n",
    "plt.show()"
   ]
  },
  {
   "cell_type": "code",
   "execution_count": null,
   "id": "216fe883",
   "metadata": {},
   "outputs": [],
   "source": [
    "we see that pregnancies, skinthickness,diabeticspedigreefunction,age are right skewed. \n",
    "\n",
    "# before transforming check with the domain experts "
   ]
  },
  {
   "cell_type": "code",
   "execution_count": null,
   "id": "04a4602c",
   "metadata": {
    "scrolled": false
   },
   "outputs": [],
   "source": [
    "for i in df.select_dtypes(exclude=object).columns:\n",
    "    print('boxplot for the columns',i)\n",
    "    sns.boxplot(data=df, x=i)\n",
    "    plt.show()\n"
   ]
  },
  {
   "cell_type": "raw",
   "id": "50ee0048",
   "metadata": {},
   "source": [
    "** pregnencies,bloodpressure, skinthickness,insulin, BMI, diabeticspedigreefunctionetc has lot of outliers which we have to take care by cropping or capping , which we to do only after consulting the domain experts. "
   ]
  },
  {
   "cell_type": "code",
   "execution_count": null,
   "id": "377bbdf2",
   "metadata": {},
   "outputs": [],
   "source": [
    "ax=sns.countplot(x=df['Outcome'], color='green')\n",
    "for p in ax.patches:\n",
    "    x=p.get_bbox().get_points()[:,0]\n",
    "    y=p.get_bbox().get_points()[1,1]\n",
    "    ax.annotate(\"{:.3g}%\".format(100.*y/len(df)), (x.mean(),y), ha='center', va='bottom')"
   ]
  },
  {
   "cell_type": "code",
   "execution_count": null,
   "id": "911e19a9",
   "metadata": {
    "scrolled": false
   },
   "outputs": [],
   "source": [
    "for i in df.select_dtypes(exclude=object).columns:\n",
    "    print('bivariate bargraph for', i)\n",
    "    df.groupby('Outcome')[i].mean().plot(kind='bar')\n",
    "    plt.ylabel(i)\n",
    "    plt.show()"
   ]
  },
  {
   "cell_type": "raw",
   "id": "c29b1620",
   "metadata": {},
   "source": [
    "women who have higher avg pregnencies, glucose level, age, bmi, diabetic pedegree function are more likely to be diabetic."
   ]
  },
  {
   "cell_type": "code",
   "execution_count": null,
   "id": "b21f5a08",
   "metadata": {},
   "outputs": [],
   "source": [
    "sns.pairplot(df)"
   ]
  },
  {
   "cell_type": "code",
   "execution_count": null,
   "id": "68fc0501",
   "metadata": {},
   "outputs": [],
   "source": [
    "sns.pairplot(df, hue='Outcome')"
   ]
  },
  {
   "cell_type": "markdown",
   "id": "9ede1f17",
   "metadata": {},
   "source": [
    " we see strong correlation between BMI and skinthickness and then glucose and insulin which we may have to treat by dropping one in each pair after consulting the domain expert "
   ]
  },
  {
   "cell_type": "code",
   "execution_count": null,
   "id": "8630c177",
   "metadata": {},
   "outputs": [],
   "source": [
    "sns.heatmap(df.corr(), annot=True, cmap='bone', vmax=+1,vmin=-1,mask=np.triu(df.corr()))"
   ]
  },
  {
   "cell_type": "raw",
   "id": "62002e1d",
   "metadata": {},
   "source": [
    "from the heat map we see that BMI,, glucose, and age the likely risk factors of diabetics."
   ]
  },
  {
   "cell_type": "markdown",
   "id": "40832f82",
   "metadata": {},
   "source": [
    "** EDA observations -- it is a must  point all the analysis here \n",
    "1. univariate --- observations \n",
    "2.\n",
    "3.\n",
    "\n",
    "-----\n"
   ]
  },
  {
   "cell_type": "markdown",
   "id": "f823d8fa",
   "metadata": {},
   "source": [
    "# Preprocess the data for modelling "
   ]
  },
  {
   "cell_type": "code",
   "execution_count": null,
   "id": "2b6b02d5",
   "metadata": {},
   "outputs": [],
   "source": [
    "#-- sep features and label \n",
    "\n",
    "X=df.drop('Outcome', axis=1)\n",
    "y=df['Outcome']"
   ]
  },
  {
   "cell_type": "code",
   "execution_count": null,
   "id": "e9a4355b",
   "metadata": {},
   "outputs": [],
   "source": [
    "# solve for data imbalance\n",
    "\n",
    "sm=SMOTE()\n",
    "X,y=sm.fit_resample(X,y)    # check with the client before it.  for reducing bias and variance we have to do this. \n",
    "\n"
   ]
  },
  {
   "cell_type": "code",
   "execution_count": null,
   "id": "896a066d",
   "metadata": {},
   "outputs": [],
   "source": [
    "y.value_counts()"
   ]
  },
  {
   "cell_type": "code",
   "execution_count": null,
   "id": "6a63f240",
   "metadata": {},
   "outputs": [],
   "source": []
  },
  {
   "cell_type": "markdown",
   "id": "798c50dd",
   "metadata": {},
   "source": [
    "## split the data"
   ]
  },
  {
   "cell_type": "code",
   "execution_count": null,
   "id": "88de85e8",
   "metadata": {},
   "outputs": [],
   "source": [
    "x_train,x_test,y_train,y_test=train_test_split(X,y,test_size=0.2,random_state=101,stratify=y)"
   ]
  },
  {
   "cell_type": "code",
   "execution_count": null,
   "id": "259b1e28",
   "metadata": {},
   "outputs": [],
   "source": [
    "x_train.shape,x_test.shape,y_train.shape,y_test.shape"
   ]
  },
  {
   "cell_type": "code",
   "execution_count": null,
   "id": "5865ce70",
   "metadata": {},
   "outputs": [],
   "source": [
    "# can dio standard scaling also here "
   ]
  },
  {
   "cell_type": "markdown",
   "id": "c3a9dfe6",
   "metadata": {},
   "source": [
    "# Modelling "
   ]
  },
  {
   "cell_type": "code",
   "execution_count": null,
   "id": "5e5eb740",
   "metadata": {},
   "outputs": [],
   "source": [
    "def print_metrics(y_test,y_pred,model_name):\n",
    "    print('metrics for model', model_name)\n",
    "    print(\"\")\n",
    "    print('accuracy=',accuracy_score(y_test,y_pred))\n",
    "    print('')\n",
    "    print('Recall=', recall_score(y_test,y_pred))\n",
    "    print('')\n",
    "    print('Precision=',precision_score(y_test,y_pred))\n",
    "    print('')\n",
    "    print('ROC score=', roc_auc_score(y_test,y_pred))\n",
    "    print('')\n",
    "    print('f1 score=', f1_score(y_test,y_pred))\n",
    "    print(\"\")\n",
    "    print(confusion_matrix(y_test,y_pred))\n",
    "    print('')\n",
    "    print(classification_report(y_test,y_pred))\n",
    "    "
   ]
  },
  {
   "cell_type": "markdown",
   "id": "f508ea01",
   "metadata": {},
   "source": [
    "# knn model "
   ]
  },
  {
   "cell_type": "code",
   "execution_count": null,
   "id": "0875d39a",
   "metadata": {},
   "outputs": [],
   "source": [
    "knn=KNeighborsClassifier()"
   ]
  },
  {
   "cell_type": "code",
   "execution_count": null,
   "id": "5149fb70",
   "metadata": {},
   "outputs": [],
   "source": [
    "knn.fit(x_train,y_train)"
   ]
  },
  {
   "cell_type": "code",
   "execution_count": null,
   "id": "82a59540",
   "metadata": {},
   "outputs": [],
   "source": [
    "y_pred=knn.predict(x_test)"
   ]
  },
  {
   "cell_type": "code",
   "execution_count": null,
   "id": "10a4eaaa",
   "metadata": {},
   "outputs": [],
   "source": [
    "print_metrics(y_test,y_pred,'knn')"
   ]
  },
  {
   "cell_type": "code",
   "execution_count": null,
   "id": "a7f5e683",
   "metadata": {},
   "outputs": [],
   "source": [
    "# fit all the models together \n",
    "\n",
    "classifiers ={'logreg':LogisticRegression(),\n",
    "              'naive bayes':GaussianNB(),\n",
    "              'decisiontree':DecisionTreeClassifier(),\n",
    "              'randomforest':RandomForestClassifier(),\n",
    "              'gradientboost':GradientBoostingClassifier(),\n",
    "              'svm':SVC(),\n",
    "             \"xgboost\":XGBClassifier()}\n",
    "    \n",
    "    \n",
    "    \n",
    "model_report=pd.DataFrame(columns=['model_name','accuracy','recall','precision','f1','roc'])\n",
    "\n",
    "for classifier, classifier_name in list(zip(classifiers.values(), classifiers.keys())):\n",
    "    classifier.fit(x_train,y_train)\n",
    "    y_pred=classifier.predict(x_test)\n",
    "    print('fitting the model ....',classifier_name)\n",
    "    t=pd.Series({\n",
    "        'model_name':classifier_name, \n",
    "        'accuracy':accuracy_score(y_test,y_pred),\n",
    "        'recall':recall_score(y_test,y_pred),\n",
    "        'precision':precision_score(y_test,y_pred),\n",
    "        'f1':f1_score(y_test,y_pred),\n",
    "        'roc':roc_auc_score(y_test,y_pred)\n",
    "    })\n",
    "    model_report=model_report.append(t,ignore_index=True)\n",
    "    \n",
    "model_report=model_report.sort_values(by='f1', ascending=False)"
   ]
  },
  {
   "cell_type": "code",
   "execution_count": null,
   "id": "3a37d470",
   "metadata": {},
   "outputs": [],
   "source": [
    "model_report"
   ]
  },
  {
   "cell_type": "code",
   "execution_count": null,
   "id": "a5519c2e",
   "metadata": {},
   "outputs": [],
   "source": [
    "random forest has performed best "
   ]
  },
  {
   "cell_type": "code",
   "execution_count": null,
   "id": "bff23160",
   "metadata": {},
   "outputs": [],
   "source": [
    "rfc=RandomForestClassifier()\n",
    "rfc.fit(x_train,y_train)"
   ]
  },
  {
   "cell_type": "code",
   "execution_count": null,
   "id": "f4eeb187",
   "metadata": {},
   "outputs": [],
   "source": [
    "param_dist={'n_estimators':range(100,1000,100),\n",
    "            'max_depth':range(10,100,5),\n",
    "            'min_samples_leaf':range(1,10,1),\n",
    "            'min_samples_split':range(2,20,2),\n",
    "            'max_features':['log2','sqrt'],\n",
    "            'criterion':['entropy','gini']}\n",
    "n_folds=10\n",
    "cv=RandomizedSearchCV(estimator=rfc,param_distributions=param_dist,n_jobs=-1,verbose=3,\n",
    "                      cv=n_folds,scoring='f1',return_train_score=True,n_iter=10)\n",
    "cv.fit(x_train,y_train)"
   ]
  },
  {
   "cell_type": "code",
   "execution_count": null,
   "id": "e493f898",
   "metadata": {},
   "outputs": [],
   "source": [
    "cv.best_score_"
   ]
  },
  {
   "cell_type": "code",
   "execution_count": null,
   "id": "53aea0c3",
   "metadata": {},
   "outputs": [],
   "source": [
    "cv.best_estimator_"
   ]
  },
  {
   "cell_type": "code",
   "execution_count": null,
   "id": "c7a95461",
   "metadata": {},
   "outputs": [],
   "source": [
    "# try with gridsearch "
   ]
  },
  {
   "cell_type": "code",
   "execution_count": null,
   "id": "34ed02cd",
   "metadata": {},
   "outputs": [],
   "source": [
    "import shap"
   ]
  },
  {
   "cell_type": "code",
   "execution_count": null,
   "id": "8220b2ff",
   "metadata": {},
   "outputs": [],
   "source": [
    "best_rfc=cv.best_estimator_\n",
    "value=shap.TreeExplainer(best_rfc).shap_values(x_test)\n",
    "shap.summary_plot(value,x_train,plot_type='bar',feature_names=X.columns)\n"
   ]
  },
  {
   "cell_type": "markdown",
   "id": "f360a05c",
   "metadata": {},
   "source": [
    "the interpretation also shows that glucose,, BMI = and age are stronger predictors of diabetics. "
   ]
  },
  {
   "cell_type": "code",
   "execution_count": null,
   "id": "399ca4ad",
   "metadata": {},
   "outputs": [],
   "source": [
    "param_dist={'n_estimators':range(100,1000,100),\n",
    "            'max_depth':range(10,100,5),\n",
    "            'min_samples_leaf':range(1,10,1),\n",
    "            'min_samples_split':range(2,20,2),\n",
    "            'max_features':['log2','sqrt'],\n",
    "            'criterion':['entropy','gini']}\n",
    "n_folds=10\n",
    "#cv=GridSearchCV(estimator=rfc,param_grid==params,n_jobs=-1,verbose=3,\n",
    "                      # cv=n_folds,scoring='f1',return_train_score=True)\n",
    "cv = GridSearchCV(estimator=rfc, param_grid=param_dist, n_jobs=-1, verbose=3,\n",
    "                  cv=n_folds, scoring='f1', return_train_score=True)\n",
    "cv.fit(x_train,y_train)"
   ]
  },
  {
   "cell_type": "code",
   "execution_count": null,
   "id": "442a6551",
   "metadata": {},
   "outputs": [],
   "source": []
  },
  {
   "cell_type": "code",
   "execution_count": null,
   "id": "f42c3b78",
   "metadata": {},
   "outputs": [],
   "source": []
  },
  {
   "cell_type": "code",
   "execution_count": null,
   "id": "36aef8f2",
   "metadata": {},
   "outputs": [],
   "source": []
  },
  {
   "cell_type": "code",
   "execution_count": null,
   "id": "b11d9d50",
   "metadata": {},
   "outputs": [],
   "source": []
  },
  {
   "cell_type": "code",
   "execution_count": null,
   "id": "e5ec99df",
   "metadata": {},
   "outputs": [],
   "source": []
  }
 ],
 "metadata": {
  "kernelspec": {
   "display_name": "Python 3 (ipykernel)",
   "language": "python",
   "name": "python3"
  },
  "language_info": {
   "codemirror_mode": {
    "name": "ipython",
    "version": 3
   },
   "file_extension": ".py",
   "mimetype": "text/x-python",
   "name": "python",
   "nbconvert_exporter": "python",
   "pygments_lexer": "ipython3",
   "version": "3.10.13"
  }
 },
 "nbformat": 4,
 "nbformat_minor": 5
}
